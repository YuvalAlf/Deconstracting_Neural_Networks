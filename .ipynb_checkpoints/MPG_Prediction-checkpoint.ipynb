{
 "cells": [
  {
   "cell_type": "markdown",
   "metadata": {},
   "source": [
    "# MPG Prediction Using Halved Neural Network"
   ]
  },
  {
   "cell_type": "code",
   "execution_count": 1,
   "metadata": {},
   "outputs": [
    {
     "name": "stderr",
     "output_type": "stream",
     "text": [
      "Using TensorFlow backend.\n"
     ]
    }
   ],
   "source": [
    "import numpy as np\n",
    "import seaborn as sb\n",
    "import pandas as pd\n",
    "import tensorflow as tf\n",
    "import matplotlib.pyplot as plt\n",
    "from sklearn import datasets, linear_model\n",
    "from sklearn.metrics import mean_squared_error, r2_score\n",
    "from sklearn import tree\n",
    "from keras.models import Sequential\n",
    "from tensorflow import keras\n",
    "from tensorflow.keras import layers\n",
    "from sklearn.neighbors import KNeighborsRegressor\n",
    "from keras.utils import plot_model\n",
    "from keras.models import Model\n",
    "from keras.layers import Input\n",
    "from keras.layers import Dense\n",
    "from keras.callbacks import ModelCheckpoint\n",
    "from keras.layers.merge import concatenate\n",
    "from ann_visualizer.visualize import ann_viz\n",
    "from keras.callbacks import EarlyStopping\n",
    "from keras.models import load_model\n",
    "\n",
    "%matplotlib inline\n",
    "%config InlineBackend.figure_format = 'svg'\n"
   ]
  },
  {
   "cell_type": "code",
   "execution_count": 2,
   "metadata": {},
   "outputs": [],
   "source": [
    "showGraphs = False\n",
    "randomSeed = 1001\n",
    "np.random.seed(randomSeed)\n",
    "EPOCHS = 500"
   ]
  },
  {
   "cell_type": "code",
   "execution_count": 3,
   "metadata": {},
   "outputs": [],
   "source": [
    "data = pd.read_csv('mpg.csv')  # read MPG csv data\n",
    "data = data[data['horsepower'] != '?']   # remove entries with unknown horsepower\n",
    "data = data[['mpg', 'displacement', 'cylinders', 'horsepower', 'weight']]   # take only mpg, weight, cylinders...\n",
    "data = data.apply(lambda col: col.astype(np.float64))   # convert everything to float\n",
    "data = data[~((data['horsepower'] == 132) & (data['mpg'] == 32.7))] # outlier1\n",
    "data = data[~((data['displacement'] == 262) & (data['mpg'] == 38))] # outlier2"
   ]
  },
  {
   "cell_type": "code",
   "execution_count": 4,
   "metadata": {},
   "outputs": [],
   "source": [
    "if (showGraphs):\n",
    "    data.head()"
   ]
  },
  {
   "cell_type": "markdown",
   "metadata": {},
   "source": [
    "## Data Visualisation"
   ]
  },
  {
   "cell_type": "code",
   "execution_count": 5,
   "metadata": {},
   "outputs": [],
   "source": [
    "if (showGraphs):\n",
    "    _ = sb.scatterplot(data=data, x='horsepower', y='mpg')"
   ]
  },
  {
   "cell_type": "code",
   "execution_count": 6,
   "metadata": {},
   "outputs": [],
   "source": [
    "if (showGraphs):\n",
    "    _ = sb.scatterplot(data=data, x='weight', y='mpg')"
   ]
  },
  {
   "cell_type": "code",
   "execution_count": 7,
   "metadata": {},
   "outputs": [],
   "source": [
    "if (showGraphs):\n",
    "    _ = sb.violinplot(data=data, x='cylinders', y='mpg', palette=sb.cubehelix_palette(10), inner=None)"
   ]
  },
  {
   "cell_type": "code",
   "execution_count": 8,
   "metadata": {},
   "outputs": [],
   "source": [
    "if (showGraphs):\n",
    "    _ = sb.scatterplot(data=data, x='displacement', y='mpg')"
   ]
  },
  {
   "cell_type": "code",
   "execution_count": 9,
   "metadata": {},
   "outputs": [],
   "source": [
    "if (showGraphs):\n",
    "    _ = sb.scatterplot(data=data, x='horsepower', y='mpg', hue='weight')"
   ]
  },
  {
   "cell_type": "code",
   "execution_count": 10,
   "metadata": {},
   "outputs": [],
   "source": [
    "if (showGraphs):\n",
    "    _ = sb.scatterplot(data=data, x='horsepower', y='mpg', hue='displacement')"
   ]
  },
  {
   "cell_type": "code",
   "execution_count": 11,
   "metadata": {},
   "outputs": [],
   "source": [
    "if (showGraphs):\n",
    "    _ = sb.scatterplot(data=data, x='horsepower', y='mpg', hue='cylinders')"
   ]
  },
  {
   "cell_type": "code",
   "execution_count": 12,
   "metadata": {},
   "outputs": [],
   "source": [
    "if (showGraphs):\n",
    "    _ = sb.scatterplot(data=data, x = 'displacement', y='mpg', hue='cylinders')"
   ]
  },
  {
   "cell_type": "markdown",
   "metadata": {},
   "source": [
    "### Correlation Matrix"
   ]
  },
  {
   "cell_type": "code",
   "execution_count": 13,
   "metadata": {
    "scrolled": false
   },
   "outputs": [],
   "source": [
    "if (showGraphs):\n",
    "    _ = sb.heatmap(data.corr(), annot = True, linewidth=1.0)"
   ]
  },
  {
   "cell_type": "markdown",
   "metadata": {},
   "source": [
    "## MPG Prediction"
   ]
  },
  {
   "cell_type": "markdown",
   "metadata": {},
   "source": [
    "### Test  Data Precent = 20%"
   ]
  },
  {
   "cell_type": "code",
   "execution_count": 14,
   "metadata": {},
   "outputs": [],
   "source": [
    "testPrecent = 0.2\n",
    "trainPrecent = 1.0 - testPrecent\n",
    "trainData = data.sample(frac=trainPrecent, random_state=randomSeed)\n",
    "testData = data.drop(trainData.index)\n",
    "\n",
    "trainLabels = trainData.pop('mpg')\n",
    "testLabels = testData.pop('mpg')\n"
   ]
  },
  {
   "cell_type": "markdown",
   "metadata": {},
   "source": [
    "### Normalize Data"
   ]
  },
  {
   "cell_type": "code",
   "execution_count": 15,
   "metadata": {},
   "outputs": [],
   "source": [
    "trainStats = trainData.describe().T\n",
    "def normalize(x):\n",
    "    return (x - trainStats['mean']) / trainStats['std']\n",
    "trainData = normalize(trainData)\n",
    "testData = normalize(testData)"
   ]
  },
  {
   "cell_type": "code",
   "execution_count": 16,
   "metadata": {},
   "outputs": [],
   "source": [
    "def errorEvaluation(error):\n",
    "    mae = np.mean(abs(error))\n",
    "    mse = np.mean(error * error)\n",
    "    return mae, mse\n",
    "\n",
    "def fitPredict(model):\n",
    "    model.fit(trainData, trainLabels)\n",
    "    predicted = model.predict(testData)\n",
    "    return errorEvaluation(testLabels - predicted)\n",
    "   # print(modelName + ':')\n",
    "   # print(\"\\tMSE = {:5.2f}\".format(mse))\n",
    "    #print(\"\\tMAE = {:5.2f}\".format(mae))"
   ]
  },
  {
   "cell_type": "markdown",
   "metadata": {},
   "source": [
    "### Linear Regression"
   ]
  },
  {
   "cell_type": "code",
   "execution_count": 17,
   "metadata": {},
   "outputs": [
    {
     "name": "stdout",
     "output_type": "stream",
     "text": [
      "Linear Regression\n",
      "mse = 22.700825015300058\n",
      "mae = 3.4670326968897567\n"
     ]
    }
   ],
   "source": [
    "print('Linear Regression')\n",
    "linearMae, linearMse = fitPredict(linear_model.LinearRegression())\n",
    "print ('mse = ' + str(linearMse))\n",
    "print ('mae = ' + str(linearMae))"
   ]
  },
  {
   "cell_type": "markdown",
   "metadata": {},
   "source": [
    "### K Nearset Neighbors"
   ]
  },
  {
   "cell_type": "code",
   "execution_count": 18,
   "metadata": {},
   "outputs": [],
   "source": [
    "knnResults = dict()\n",
    "for neighbors in range(2, 17):\n",
    "    knnResults[neighbors] = list(fitPredict(KNeighborsRegressor(n_neighbors = neighbors)))\n",
    "knnResults = pd.DataFrame(knnResults).T.rename(columns={0: \"MAE\", 1: \"MSE\"})\n",
    "if (showGraphs):\n",
    "    knnResults"
   ]
  },
  {
   "cell_type": "code",
   "execution_count": 19,
   "metadata": {},
   "outputs": [
    {
     "name": "stdout",
     "output_type": "stream",
     "text": [
      "KNN best MSE: 16.040448717948717\n",
      "KNN best MAE: 3.0166666666666666\n",
      "Best K = 2\n"
     ]
    }
   ],
   "source": [
    "knnMse = min(knnResults['MSE'])\n",
    "knnMae = min(knnResults['MAE'])\n",
    "print(\"KNN best MSE: \" + str(knnMse))\n",
    "print(\"KNN best MAE: \" + str(knnMae))\n",
    "print(\"Best K = \" + str(knnResults.sort_values(by = 'MSE').head(1).index[0]))\n"
   ]
  },
  {
   "cell_type": "markdown",
   "metadata": {},
   "source": [
    "### Decision Tree"
   ]
  },
  {
   "cell_type": "code",
   "execution_count": 20,
   "metadata": {},
   "outputs": [],
   "source": [
    "decResults = dict()\n",
    "for maxDepth in range(2, 17):\n",
    "    decResults[maxDepth] = list(fitPredict(tree.DecisionTreeRegressor(max_depth=maxDepth, random_state=randomSeed)))\n",
    "decResults = pd.DataFrame(decResults).T.rename(columns={0: \"MAE\", 1: \"MSE\"})\n",
    "if (showGraphs):\n",
    "    decResults"
   ]
  },
  {
   "cell_type": "code",
   "execution_count": 21,
   "metadata": {},
   "outputs": [
    {
     "name": "stdout",
     "output_type": "stream",
     "text": [
      "Decision Tree best MSE 22.59202438752577\n",
      "Decision Tree best MAE 3.4403096953921115\n",
      "Best Tree Depth = 3\n"
     ]
    }
   ],
   "source": [
    "decMse = min(decResults['MSE'])\n",
    "decMae = min(decResults['MAE'])\n",
    "print(\"Decision Tree best MSE \" + str(decMse))\n",
    "print(\"Decision Tree best MAE \" + str(decMae))\n",
    "print(\"Best Tree Depth = \" + str(decResults.sort_values(by = 'MSE').head(1).index[0]))"
   ]
  },
  {
   "cell_type": "markdown",
   "metadata": {},
   "source": [
    "### Fully Connected Neural Network Model"
   ]
  },
  {
   "cell_type": "code",
   "execution_count": 22,
   "metadata": {},
   "outputs": [],
   "source": [
    "def build_fully_NN_model(train):\n",
    "    model = Sequential()\n",
    "    model.add(Dense(10, activation='relu', input_dim=len(train.keys())))\n",
    "   # model.add(Dense(10, activation='relu'))\n",
    "    model.add(Dense(1))\n",
    "    \n",
    "  \n",
    "    model.compile(loss='mean_squared_error',\n",
    "                optimizer='adam',\n",
    "                metrics=['mean_absolute_error', 'mean_squared_error'])\n",
    "    return model"
   ]
  },
  {
   "cell_type": "code",
   "execution_count": 23,
   "metadata": {},
   "outputs": [],
   "source": [
    "fully_NN_model = build_fully_NN_model(trainData)"
   ]
  },
  {
   "cell_type": "code",
   "execution_count": 24,
   "metadata": {},
   "outputs": [],
   "source": [
    "if (showGraphs):\n",
    "    fully_NN_model.summary()"
   ]
  },
  {
   "cell_type": "code",
   "execution_count": 25,
   "metadata": {},
   "outputs": [],
   "source": [
    "if (showGraphs):\n",
    "    plot_model(fully_NN_model, to_file='fullyNN.png')"
   ]
  },
  {
   "cell_type": "code",
   "execution_count": 26,
   "metadata": {},
   "outputs": [],
   "source": [
    "# Display training progress by printing a single dot for each completed epoch\n",
    "class PrintDot(keras.callbacks.Callback):\n",
    "  def on_epoch_end(self, epoch, logs):\n",
    "    if epoch % 100 == 0: print('')\n",
    "    print('.', end='')\n",
    "\n",
    "def trainModel(model, X, Y):\n",
    "    es = EarlyStopping(monitor='val_loss', mode='min', verbose=0, patience=100)\n",
    "    mc = ModelCheckpoint('best_nn_model.nn', monitor='val_loss', mode='min', verbose=0, save_best_only=True)\n",
    "    history = model.fit(X, Y, epochs=EPOCHS, validation_split = 0.2, verbose=0, callbacks=[PrintDot(), es, mc])\n",
    "    model = load_model('best_nn_model.nn')\n",
    "    return history, model"
   ]
  },
  {
   "cell_type": "code",
   "execution_count": 27,
   "metadata": {},
   "outputs": [
    {
     "name": "stdout",
     "output_type": "stream",
     "text": [
      "\n",
      "....................................................................................................\n",
      "....................................................................................................\n",
      "....................................................................................................\n",
      "....................................................................................................\n",
      "...................................................................................................."
     ]
    }
   ],
   "source": [
    "fully_NN_history, fully_NN_model = trainModel(fully_NN_model, trainData, trainLabels)"
   ]
  },
  {
   "cell_type": "code",
   "execution_count": 28,
   "metadata": {},
   "outputs": [],
   "source": [
    "hist = pd.DataFrame(fully_NN_history.history)\n",
    "hist['epoch'] = fully_NN_history.epoch"
   ]
  },
  {
   "cell_type": "code",
   "execution_count": 29,
   "metadata": {},
   "outputs": [],
   "source": [
    "def plot_history(history):    \n",
    "  hist = pd.DataFrame(history.history)\n",
    "  hist['epoch'] = history.epoch\n",
    "  \n",
    "  plt.figure()\n",
    "  plt.xlabel('Epoch')\n",
    "  plt.ylabel('Mean Abs Error [MPG]')\n",
    "  plt.plot(hist['epoch'], hist['mean_absolute_error'], label='Train Error')\n",
    "  plt.plot(hist['epoch'], hist['val_mean_absolute_error'], label = 'Validation Error')\n",
    "  plt.ylim([0,10])\n",
    "  plt.legend()\n",
    "  \n",
    "  plt.figure()\n",
    "  plt.xlabel('Epoch')\n",
    "  plt.ylabel('Mean Square Error [$MPG^2$]')\n",
    "  plt.plot(hist['epoch'], hist['mean_squared_error'], label='Train Error')\n",
    "  plt.plot(hist['epoch'], hist['val_mean_squared_error'], label = 'Validation Error')\n",
    "  plt.ylim([0,50])\n",
    "  plt.legend()\n",
    "  plt.show()\n",
    "\n",
    "\n",
    "if (showGraphs):\n",
    "    plot_history(fully_NN_history)"
   ]
  },
  {
   "cell_type": "code",
   "execution_count": 30,
   "metadata": {},
   "outputs": [],
   "source": [
    "def show_test_predictions(name, model, testX, testY):\n",
    "    loss, mae, mse = model.evaluate(testX, testY, verbose=0)\n",
    "    print(name + ' MSE: ' + str(fullyMse))\n",
    "    print(name + ' MAE: ' + str(fullyMae))\n",
    "    if (showGraphs):\n",
    "        test_predictions = model.predict(testX).flatten()\n",
    "\n",
    "        plt.scatter(testY, test_predictions)\n",
    "        plt.xlabel('True Values [MPG]')\n",
    "        plt.ylabel('Predictions [MPG]')\n",
    "        plt.axis('equal')\n",
    "        plt.axis('square')\n",
    "        plt.xlim([0,plt.xlim()[1]])\n",
    "        plt.ylim([0,plt.ylim()[1]])\n",
    "        _ = plt.plot([0, 100], [0, 100])\n",
    "    return mse, mae"
   ]
  },
  {
   "cell_type": "code",
   "execution_count": 31,
   "metadata": {},
   "outputs": [
    {
     "name": "stdout",
     "output_type": "stream",
     "text": [
      "Fully Connected NN MSE: 0\n",
      "Fully Connected NN MAE: 2\n"
     ]
    }
   ],
   "source": [
    "fullyMse = 0\n",
    "fullyMae = 2\n",
    "fullyMse, fullyMae = show_test_predictions('Fully Connected NN', fully_NN_model, testData, testLabels)"
   ]
  },
  {
   "cell_type": "markdown",
   "metadata": {},
   "source": [
    "### Halved Neural Network Model"
   ]
  },
  {
   "cell_type": "code",
   "execution_count": 32,
   "metadata": {},
   "outputs": [],
   "source": [
    "def buildHalvedModel():\n",
    "    input1 = Input(shape=(2,))\n",
    "    hidden1_1 = Dense(5, activation='relu')(input1)\n",
    "   # hidden1_2 = Dense(5, activation='relu')(hidden1_1)\n",
    "    out1 = Dense(1, activation='relu')(hidden1_1)\n",
    "    \n",
    "    input2 = Input(shape=(2,))\n",
    "    hidden2_1 = Dense(5, activation='relu')(input2)\n",
    "   # hidden2_2 = Dense(5, activation='relu')(hidden2_1)\n",
    "    out2 = Dense(1, activation='relu')(hidden2_1)\n",
    "    \n",
    "    merge = concatenate([out1, out2])\n",
    "    output = Dense(1)(merge)\n",
    "    \n",
    "    model = Model(inputs=[input1, input2], outputs=output)\n",
    "    \n",
    "    model.compile(loss='mean_squared_error',\n",
    "              optimizer='adam',\n",
    "              metrics=['mean_absolute_error', 'mean_squared_error'])\n",
    "    \n",
    "    return model"
   ]
  },
  {
   "cell_type": "code",
   "execution_count": 33,
   "metadata": {},
   "outputs": [],
   "source": [
    "modelsSplits = [[['displacement', 'cylinders'] , ['horsepower', 'weight']],\n",
    "                [['displacement', 'horsepower'], ['cylinders', 'weight']],\n",
    "                [['displacement', 'weight']     , ['horsepower', 'cylinders']]]\n",
    "\n",
    "halvedModels = [buildHalvedModel(), buildHalvedModel(), buildHalvedModel()]\n",
    "\n",
    "\n",
    "def splitModelsData(data):\n",
    "    return list(map(lambda split: [data[split[0]], data[split[1]]], modelsSplits))\n",
    "\n",
    "modelsTrain = splitModelsData(trainData)\n",
    "modelsTest = splitModelsData(testData)\n",
    "\n",
    "halvedModelsHistories = []\n",
    "\n",
    "def train(i):\n",
    "    history, halvedModels[i] = trainModel(halvedModels[i], modelsTrain[i], trainLabels)\n",
    "    halvedModelsHistories.append(history)"
   ]
  },
  {
   "cell_type": "code",
   "execution_count": 34,
   "metadata": {},
   "outputs": [],
   "source": [
    "if (showGraphs):\n",
    "    plot_model(halvedModels[0], to_file='halvedNN.png')"
   ]
  },
  {
   "cell_type": "code",
   "execution_count": 35,
   "metadata": {},
   "outputs": [
    {
     "name": "stdout",
     "output_type": "stream",
     "text": [
      "\n",
      "....................................................................................................\n",
      "....................................................................................................\n",
      "....................................................................................................\n",
      "....................................................................................................\n",
      "...................................................................................................."
     ]
    }
   ],
   "source": [
    "train(0)"
   ]
  },
  {
   "cell_type": "code",
   "execution_count": 36,
   "metadata": {},
   "outputs": [
    {
     "name": "stdout",
     "output_type": "stream",
     "text": [
      "\n",
      "....................................................................................................\n",
      "....................................................................................................\n",
      "....................................................................................................\n",
      "....................................................................................................\n",
      "...................................................................................................."
     ]
    }
   ],
   "source": [
    "train(1)"
   ]
  },
  {
   "cell_type": "code",
   "execution_count": 37,
   "metadata": {},
   "outputs": [
    {
     "name": "stdout",
     "output_type": "stream",
     "text": [
      "\n",
      "....................................................................................................\n",
      "....................................................................................................\n",
      "....................................................................................................\n",
      "....................................................................................................\n",
      "...................................................................................................."
     ]
    }
   ],
   "source": [
    "train(2)"
   ]
  },
  {
   "cell_type": "code",
   "execution_count": 38,
   "metadata": {},
   "outputs": [
    {
     "name": "stdout",
     "output_type": "stream",
     "text": [
      "[['displacement', 'cylinders'], ['horsepower', 'weight']]\n"
     ]
    }
   ],
   "source": [
    "print(modelsSplits[0])\n",
    "\n",
    "if (showGraphs):\n",
    "    plot_history(halvedModelsHistories[0])"
   ]
  },
  {
   "cell_type": "code",
   "execution_count": 39,
   "metadata": {},
   "outputs": [
    {
     "name": "stdout",
     "output_type": "stream",
     "text": [
      "[['displacement', 'horsepower'], ['cylinders', 'weight']]\n"
     ]
    }
   ],
   "source": [
    "print(modelsSplits[1])\n",
    "\n",
    "if (showGraphs):\n",
    "    plot_history(halvedModelsHistories[1])"
   ]
  },
  {
   "cell_type": "code",
   "execution_count": 40,
   "metadata": {},
   "outputs": [
    {
     "name": "stdout",
     "output_type": "stream",
     "text": [
      "[['displacement', 'weight'], ['horsepower', 'cylinders']]\n"
     ]
    }
   ],
   "source": [
    "print(modelsSplits[2])\n",
    "\n",
    "if (showGraphs):\n",
    "    plot_history(halvedModelsHistories[2])"
   ]
  },
  {
   "cell_type": "code",
   "execution_count": 41,
   "metadata": {},
   "outputs": [
    {
     "name": "stdout",
     "output_type": "stream",
     "text": [
      "[['displacement', 'cylinders'], ['horsepower', 'weight']]\n",
      "Halved Connected NN MSE: 17.190521240234375\n",
      "Halved Connected NN MAE: 3.1568963527679443\n"
     ]
    }
   ],
   "source": [
    "print(modelsSplits[0])\n",
    "(halved0Mse, halved0Mae) = show_test_predictions('Halved Connected NN', halvedModels[0], modelsTest[0], testLabels)"
   ]
  },
  {
   "cell_type": "code",
   "execution_count": 42,
   "metadata": {},
   "outputs": [
    {
     "name": "stdout",
     "output_type": "stream",
     "text": [
      "[['displacement', 'horsepower'], ['cylinders', 'weight']]\n",
      "Halved Connected NN MSE: 17.190521240234375\n",
      "Halved Connected NN MAE: 3.1568963527679443\n"
     ]
    }
   ],
   "source": [
    "print(modelsSplits[1])\n",
    "(halved1Mse, halved1Mae) = show_test_predictions('Halved Connected NN', halvedModels[1], modelsTest[1], testLabels)"
   ]
  },
  {
   "cell_type": "code",
   "execution_count": 43,
   "metadata": {},
   "outputs": [
    {
     "name": "stdout",
     "output_type": "stream",
     "text": [
      "[['displacement', 'weight'], ['horsepower', 'cylinders']]\n",
      "Halved Connected NN MSE: 17.190521240234375\n",
      "Halved Connected NN MAE: 3.1568963527679443\n"
     ]
    }
   ],
   "source": [
    "print(modelsSplits[2])\n",
    "(halved2Mse, halved2Mae) = show_test_predictions('Halved Connected NN', halvedModels[2], modelsTest[2], testLabels)"
   ]
  },
  {
   "cell_type": "code",
   "execution_count": null,
   "metadata": {},
   "outputs": [],
   "source": []
  },
  {
   "cell_type": "code",
   "execution_count": null,
   "metadata": {},
   "outputs": [],
   "source": []
  },
  {
   "cell_type": "markdown",
   "metadata": {},
   "source": [
    "## Summary"
   ]
  },
  {
   "cell_type": "code",
   "execution_count": 44,
   "metadata": {},
   "outputs": [
    {
     "data": {
      "text/html": [
       "<div>\n",
       "<style scoped>\n",
       "    .dataframe tbody tr th:only-of-type {\n",
       "        vertical-align: middle;\n",
       "    }\n",
       "\n",
       "    .dataframe tbody tr th {\n",
       "        vertical-align: top;\n",
       "    }\n",
       "\n",
       "    .dataframe thead th {\n",
       "        text-align: right;\n",
       "    }\n",
       "</style>\n",
       "<table border=\"1\" class=\"dataframe\">\n",
       "  <thead>\n",
       "    <tr style=\"text-align: right;\">\n",
       "      <th></th>\n",
       "      <th>Classifier</th>\n",
       "      <th>MAE</th>\n",
       "      <th>MSE</th>\n",
       "    </tr>\n",
       "  </thead>\n",
       "  <tbody>\n",
       "    <tr>\n",
       "      <th>0</th>\n",
       "      <td>Decision Tree</td>\n",
       "      <td>3.44031</td>\n",
       "      <td>22.592</td>\n",
       "    </tr>\n",
       "    <tr>\n",
       "      <th>1</th>\n",
       "      <td>Linear Regression</td>\n",
       "      <td>3.46703</td>\n",
       "      <td>22.7008</td>\n",
       "    </tr>\n",
       "    <tr>\n",
       "      <th>2</th>\n",
       "      <td>KNN</td>\n",
       "      <td>3.01667</td>\n",
       "      <td>16.0404</td>\n",
       "    </tr>\n",
       "    <tr>\n",
       "      <th>3</th>\n",
       "      <td>Fully connected NN</td>\n",
       "      <td>3.1569</td>\n",
       "      <td>17.1905</td>\n",
       "    </tr>\n",
       "    <tr>\n",
       "      <th>4</th>\n",
       "      <td>Halved0 NN [['displacement', 'cylinders'], ['horsepower', 'weight']]</td>\n",
       "      <td>20.2232</td>\n",
       "      <td>481.506</td>\n",
       "    </tr>\n",
       "    <tr>\n",
       "      <th>5</th>\n",
       "      <td>Halved1 NN [['displacement', 'horsepower'], ['cylinders', 'weight']]</td>\n",
       "      <td>3.14288</td>\n",
       "      <td>17.4217</td>\n",
       "    </tr>\n",
       "    <tr>\n",
       "      <th>6</th>\n",
       "      <td>Halved2 NN [['displacement', 'weight'], ['horsepower', 'cylinders']]</td>\n",
       "      <td>3.31271</td>\n",
       "      <td>20.0135</td>\n",
       "    </tr>\n",
       "  </tbody>\n",
       "</table>\n",
       "</div>"
      ],
      "text/plain": [
       "                                                             Classifier  \\\n",
       "0  Decision Tree                                                          \n",
       "1  Linear Regression                                                      \n",
       "2  KNN                                                                    \n",
       "3  Fully connected NN                                                     \n",
       "4  Halved0 NN [['displacement', 'cylinders'], ['horsepower', 'weight']]   \n",
       "5  Halved1 NN [['displacement', 'horsepower'], ['cylinders', 'weight']]   \n",
       "6  Halved2 NN [['displacement', 'weight'], ['horsepower', 'cylinders']]   \n",
       "\n",
       "       MAE      MSE  \n",
       "0  3.44031  22.592   \n",
       "1  3.46703  22.7008  \n",
       "2  3.01667  16.0404  \n",
       "3  3.1569   17.1905  \n",
       "4  20.2232  481.506  \n",
       "5  3.14288  17.4217  \n",
       "6  3.31271  20.0135  "
      ]
     },
     "execution_count": 44,
     "metadata": {},
     "output_type": "execute_result"
    }
   ],
   "source": [
    "errorParameters = pd.DataFrame({\n",
    "    0 : ['Decision Tree', decMae, decMse],\n",
    "    1 : ['Linear Regression', linearMae, linearMse],\n",
    "    2 : ['KNN', knnMae, knnMse],\n",
    "    3 : ['Fully connected NN', fullyMae, fullyMse],\n",
    "    4 : ['Halved0 NN ' + str(modelsSplits[0]), halved0Mae, halved0Mse],\n",
    "    5 : ['Halved1 NN ' + str(modelsSplits[1]), halved1Mae, halved1Mse],\n",
    "    6 : ['Halved2 NN ' + str(modelsSplits[2]), halved2Mae, halved2Mse]\n",
    "}, index = ['Classifier', 'MAE', 'MSE']).T\n",
    "\n",
    "pd.set_option('display.max_colwidth', 0)\n",
    "errorParameters"
   ]
  },
  {
   "cell_type": "code",
   "execution_count": 45,
   "metadata": {},
   "outputs": [],
   "source": [
    "# visualize this table"
   ]
  },
  {
   "cell_type": "code",
   "execution_count": null,
   "metadata": {},
   "outputs": [],
   "source": []
  }
 ],
 "metadata": {
  "kernelspec": {
   "display_name": "Python 3",
   "language": "python",
   "name": "python3"
  },
  "language_info": {
   "codemirror_mode": {
    "name": "ipython",
    "version": 3
   },
   "file_extension": ".py",
   "mimetype": "text/x-python",
   "name": "python",
   "nbconvert_exporter": "python",
   "pygments_lexer": "ipython3",
   "version": "3.7.3"
  }
 },
 "nbformat": 4,
 "nbformat_minor": 2
}
